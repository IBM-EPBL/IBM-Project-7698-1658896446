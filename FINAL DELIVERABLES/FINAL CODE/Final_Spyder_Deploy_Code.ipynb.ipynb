{
  "nbformat": 4,
  "nbformat_minor": 0,
  "metadata": {
    "colab": {
      "provenance": []
    },
    "kernelspec": {
      "name": "python3",
      "display_name": "Python 3"
    },
    "language_info": {
      "name": "python"
    }
  },
  "cells": [
    {
      "cell_type": "code",
      "source": [
        "import cv2 #mporting opencv Library this i to open camera and take the video\n",
        "import numpy as np # to convert image to array and expand dimensions\n",
        "from tensorflow.keras.models import load_model # to Load the saved model\n",
        "from tensorflow.keras.preprocessing import image # to preproccess the image\n",
        "model = load_model(\"dataset.h5\") # we are loading the saved moodek\n",
        "video = cv2.VideoCapture(0) # two parameters 1, bool 0 or 1, frame\n",
        "index = [\"A\",\"B\",\"C\",\"D\",\"E\",\"F\",\"G\",\"H\",\"I\"]\n",
        "index=['A','B','C','D','E','F','G','H','I']\n",
        "#from playsound import playsound\n",
        "while(1):\n",
        "    success,frame = video.read()\n",
        "    cv2.imwrite(\"image.jpg\",frame)\n",
        "    img = image.load_img(\"image.jpg\",target_size = (64,64))\n",
        "    x = image.img_to_array(img)\n",
        "    x = np.expand_dims (x,axis = 0)\n",
        "    pred = np.argmax(model.predict(x),axis=1)\n",
        "    p = index [pred[0]]\n",
        "    print(\"predicted letter is: \"+ str(p))\n",
        "    #playSound(\"letter\"+str(str(index [p])+\"is detected\"))\n",
        "    cv2.putText (frame, \"predicted letter is \"+str(p), (100, 100), cv2. FONT_HERSHEY_SIMPLEX, 1,(0,0,0), 4)\n",
        "    cv2.imshow(\"showcasewindow\", frame)\n",
        "    \n",
        "    if cv2.waitkey(1) & 0xFF == ord('a'):\n",
        "        break\n",
        "video.release()\n",
        "cv2.destroyAllwindows()"
      ],
      "metadata": {
        "id": "1C7gYYKDM285"
      },
      "execution_count": null,
      "outputs": []
    }
  ]
}